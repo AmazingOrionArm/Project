{
 "cells": [
  {
   "cell_type": "code",
   "execution_count": 1,
   "metadata": {},
   "outputs": [
    {
     "data": {
      "text/html": [
       "        <script type=\"text/javascript\">\n",
       "        window.PlotlyConfig = {MathJaxConfig: 'local'};\n",
       "        if (window.MathJax) {MathJax.Hub.Config({SVG: {font: \"STIX-Web\"}});}\n",
       "        if (typeof require !== 'undefined') {\n",
       "        require.undef(\"plotly\");\n",
       "        requirejs.config({\n",
       "            paths: {\n",
       "                'plotly': ['https://cdn.plot.ly/plotly-latest.min']\n",
       "            }\n",
       "        });\n",
       "        require(['plotly'], function(Plotly) {\n",
       "            window._Plotly = Plotly;\n",
       "        });\n",
       "        }\n",
       "        </script>\n",
       "        "
      ]
     },
     "metadata": {},
     "output_type": "display_data"
    },
    {
     "name": "stdout",
     "output_type": "stream",
     "text": [
      "Calculating...\n",
      "Generation:1999\r"
     ]
    }
   ],
   "source": [
    "import jobshopscheduling as jss\n",
    "\n",
    "#---Main Function--\n",
    "mainScheduler = jss.Scheduler()\n",
    "mainScheduler[\"processTimeTable\"] = \"ProcessingTime.csv\"\n",
    "mainScheduler[\"machinesSequenceTable\"] = \"MachinesSequence.csv\"\n",
    "\n",
    "mainScheduler.Run()\n",
    "\n",
    "#mainScheduler.PrintResult()\n",
    "#mainScheduler.PrintFitnessPlot()\n",
    "#mainScheduler.GenerateGanttChart()\n",
    "#mainScheduler.OutputSchedule()"
   ]
  },
  {
   "cell_type": "code",
   "execution_count": 2,
   "metadata": {},
   "outputs": [
    {
     "data": {
      "text/plain": [
       "'<div>\\n        \\n        \\n            <div id=\"a22934f9-0663-4ca8-bc9c-dffdc6c9f6da\" class=\"plotly-graph-div\" style=\"height:600px; width:900px;\"></div>\\n            <script type=\"text/javascript\">\\n                \\n                    window.PLOTLYENV=window.PLOTLYENV || {};\\n                    window.PLOTLYENV.BASE_URL=\\'https://plot.ly\\';\\n                    \\n                if (document.getElementById(\"a22934f9-0663-4ca8-bc9c-dffdc6c9f6da\")) {\\n                    Plotly.newPlot(\\n                        \\'a22934f9-0663-4ca8-bc9c-dffdc6c9f6da\\',\\n                        [{\"marker\": {\"color\": \"white\"}, \"name\": \"\", \"type\": \"scatter\", \"uid\": \"95cf433c-f593-4952-a08e-71cb696872f9\", \"x\": [\"2100-01-01 0:00:43\", \"2100-01-01 0:01:12\"], \"y\": [3, 3]}, {\"marker\": {\"color\": \"white\"}, \"name\": \"\", \"type\": \"scatter\", \"uid\": \"030b3182-cab3-4961-8b6f-471a4cec9f91\", \"x\": [\"2100-01-01 0:00:00\", \"2100-01-01 0:00:43\"], \"y\": [3, 3]}, {\"marker\": {\"color\": \"white\"}, \"name\": \"\", \"type\": \"scatter\", \"uid\": \"da4821e9-8f26-4496-bbf6-60fb2b1b6f7c\", \"x\": [\"2100-01-01 0:04:07\", \"2100-01-01 0:05:32\"], \"y\": [3, 3]}, {\"marker\": {\"color\": \"white\"}, \"name\": \"\", \"type\": \"scatter\", \"uid\": \"eee9fea6-ebfd-4750-8211-8f7daca65640\", \"x\": [\"2100-01-01 0:02:56\", \"2100-01-01 0:04:07\"], \"y\": [3, 3]}, {\"marker\": {\"color\": \"white\"}, \"name\": \"\", \"type\": \"scatter\", \"uid\": \"ef95b12b-01fc-4508-b459-3ce90edc9dd2\", \"x\": [\"2100-01-01 0:02:52\", \"2100-01-01 0:04:10\"], \"y\": [2, 2]}, {\"marker\": {\"color\": \"white\"}, \"name\": \"\", \"type\": \"scatter\", \"uid\": \"98245b88-642e-46cb-bbfa-34c638277ca1\", \"x\": [\"2100-01-01 0:04:26\", \"2100-01-01 0:05:41\"], \"y\": [2, 2]}, {\"marker\": {\"color\": \"white\"}, \"name\": \"\", \"type\": \"scatter\", \"uid\": \"49d447b6-b30f-4ba2-a82f-dcdb7d429d0e\", \"x\": [\"2100-01-01 0:01:21\", \"2100-01-01 0:02:52\"], \"y\": [2, 2]}, {\"marker\": {\"color\": \"white\"}, \"name\": \"\", \"type\": \"scatter\", \"uid\": \"4710803a-020e-44ff-b767-56b396690f44\", \"x\": [\"2100-01-01 0:00:00\", \"2100-01-01 0:01:21\"], \"y\": [2, 2]}, {\"marker\": {\"color\": \"white\"}, \"name\": \"\", \"type\": \"scatter\", \"uid\": \"1e9ffbdc-da57-4829-8f75-e68e89d23c6c\", \"x\": [\"2100-01-01 0:06:11\", \"2100-01-01 0:06:47\"], \"y\": [1, 1]}, {\"marker\": {\"color\": \"white\"}, \"name\": \"\", \"type\": \"scatter\", \"uid\": \"3300f34c-b2fd-4fef-8d0b-718902235464\", \"x\": [\"2100-01-01 0:02:56\", \"2100-01-01 0:04:26\"], \"y\": [1, 1]}, {\"marker\": {\"color\": \"white\"}, \"name\": \"\", \"type\": \"scatter\", \"uid\": \"18941ce3-5620-4685-b592-88a26143bf4a\", \"x\": [\"2100-01-01 0:05:32\", \"2100-01-01 0:06:11\"], \"y\": [1, 1]}, {\"marker\": {\"color\": \"white\"}, \"name\": \"\", \"type\": \"scatter\", \"uid\": \"0922bc93-0802-41c1-8f89-87e392693657\", \"x\": [\"2100-01-01 0:01:21\", \"2100-01-01 0:02:56\"], \"y\": [1, 1]}, {\"marker\": {\"color\": \"white\"}, \"name\": \"\", \"type\": \"scatter\", \"uid\": \"368c894f-3400-428a-b1e3-bc322ee3dfcc\", \"x\": [\"2100-01-01 0:05:46\", \"2100-01-01 0:05:55\"], \"y\": [0, 0]}, {\"marker\": {\"color\": \"white\"}, \"name\": \"\", \"type\": \"scatter\", \"uid\": \"f1099f6d-15dc-49a9-8392-ff31e50c8786\", \"x\": [\"2100-01-01 0:05:55\", \"2100-01-01 0:06:06\"], \"y\": [0, 0]}, {\"marker\": {\"color\": \"white\"}, \"name\": \"\", \"type\": \"scatter\", \"uid\": \"4a061d1a-be17-45ac-8532-c6d33e18c9f9\", \"x\": [\"2100-01-01 0:06:11\", \"2100-01-01 0:07:25\"], \"y\": [0, 0]}, {\"marker\": {\"color\": \"white\"}, \"name\": \"\", \"type\": \"scatter\", \"uid\": \"60e6680a-8983-459f-93c4-b3f0acdd4314\", \"x\": [\"2100-01-01 0:04:07\", \"2100-01-01 0:05:46\"], \"y\": [0, 0]}, {\"hoverinfo\": \"none\", \"marker\": {\"color\": \"rgb(31, 119, 180)\", \"size\": 1}, \"name\": \"Job 1\", \"showlegend\": true, \"type\": \"scatter\", \"uid\": \"b7de271f-3cb6-4f26-946f-eb45b0effade\", \"x\": [\"2100-01-01 0:04:07\", \"2100-01-01 0:04:07\"], \"y\": [0, 0]}, {\"hoverinfo\": \"none\", \"marker\": {\"color\": \"rgb(255, 127, 14)\", \"size\": 1}, \"name\": \"Job 2\", \"showlegend\": true, \"type\": \"scatter\", \"uid\": \"16f3ed19-4f83-423c-94ce-6d6296e3f6de\", \"x\": [\"2100-01-01 0:04:07\", \"2100-01-01 0:04:07\"], \"y\": [1, 1]}, {\"hoverinfo\": \"none\", \"marker\": {\"color\": \"rgb(44, 160, 44)\", \"size\": 1}, \"name\": \"Job 3\", \"showlegend\": true, \"type\": \"scatter\", \"uid\": \"b2ce677d-9664-4530-9791-a15d41cf369c\", \"x\": [\"2100-01-01 0:04:07\", \"2100-01-01 0:04:07\"], \"y\": [2, 2]}, {\"hoverinfo\": \"none\", \"marker\": {\"color\": \"rgb(214, 39, 40)\", \"size\": 1}, \"name\": \"Job 4\", \"showlegend\": true, \"type\": \"scatter\", \"uid\": \"e82f268e-e4e7-451d-b82a-cc0a133451bc\", \"x\": [\"2100-01-01 0:04:07\", \"2100-01-01 0:04:07\"], \"y\": [3, 3]}],\\n                        {\"height\": 600, \"hovermode\": \"closest\", \"shapes\": [{\"fillcolor\": \"rgb(31, 119, 180)\", \"line\": {\"width\": 0}, \"opacity\": 1, \"type\": \"rect\", \"x0\": \"2100-01-01 0:00:43\", \"x1\": \"2100-01-01 0:01:12\", \"xref\": \"x\", \"y0\": 2.8, \"y1\": 3.2, \"yref\": \"y\"}, {\"fillcolor\": \"rgb(255, 127, 14)\", \"line\": {\"width\": 0}, \"opacity\": 1, \"type\": \"rect\", \"x0\": \"2100-01-01 0:00:00\", \"x1\": \"2100-01-01 0:00:43\", \"xref\": \"x\", \"y0\": 2.8, \"y1\": 3.2, \"yref\": \"y\"}, {\"fillcolor\": \"rgb(44, 160, 44)\", \"line\": {\"width\": 0}, \"opacity\": 1, \"type\": \"rect\", \"x0\": \"2100-01-01 0:04:07\", \"x1\": \"2100-01-01 0:05:32\", \"xref\": \"x\", \"y0\": 2.8, \"y1\": 3.2, \"yref\": \"y\"}, {\"fillcolor\": \"rgb(214, 39, 40)\", \"line\": {\"width\": 0}, \"opacity\": 1, \"type\": \"rect\", \"x0\": \"2100-01-01 0:02:56\", \"x1\": \"2100-01-01 0:04:07\", \"xref\": \"x\", \"y0\": 2.8, \"y1\": 3.2, \"yref\": \"y\"}, {\"fillcolor\": \"rgb(31, 119, 180)\", \"line\": {\"width\": 0}, \"opacity\": 1, \"type\": \"rect\", \"x0\": \"2100-01-01 0:02:52\", \"x1\": \"2100-01-01 0:04:10\", \"xref\": \"x\", \"y0\": 1.8, \"y1\": 2.2, \"yref\": \"y\"}, {\"fillcolor\": \"rgb(255, 127, 14)\", \"line\": {\"width\": 0}, \"opacity\": 1, \"type\": \"rect\", \"x0\": \"2100-01-01 0:04:26\", \"x1\": \"2100-01-01 0:05:41\", \"xref\": \"x\", \"y0\": 1.8, \"y1\": 2.2, \"yref\": \"y\"}, {\"fillcolor\": \"rgb(44, 160, 44)\", \"line\": {\"width\": 0}, \"opacity\": 1, \"type\": \"rect\", \"x0\": \"2100-01-01 0:01:21\", \"x1\": \"2100-01-01 0:02:52\", \"xref\": \"x\", \"y0\": 1.8, \"y1\": 2.2, \"yref\": \"y\"}, {\"fillcolor\": \"rgb(214, 39, 40)\", \"line\": {\"width\": 0}, \"opacity\": 1, \"type\": \"rect\", \"x0\": \"2100-01-01 0:00:00\", \"x1\": \"2100-01-01 0:01:21\", \"xref\": \"x\", \"y0\": 1.8, \"y1\": 2.2, \"yref\": \"y\"}, {\"fillcolor\": \"rgb(31, 119, 180)\", \"line\": {\"width\": 0}, \"opacity\": 1, \"type\": \"rect\", \"x0\": \"2100-01-01 0:06:11\", \"x1\": \"2100-01-01 0:06:47\", \"xref\": \"x\", \"y0\": 0.8, \"y1\": 1.2, \"yref\": \"y\"}, {\"fillcolor\": \"rgb(255, 127, 14)\", \"line\": {\"width\": 0}, \"opacity\": 1, \"type\": \"rect\", \"x0\": \"2100-01-01 0:02:56\", \"x1\": \"2100-01-01 0:04:26\", \"xref\": \"x\", \"y0\": 0.8, \"y1\": 1.2, \"yref\": \"y\"}, {\"fillcolor\": \"rgb(44, 160, 44)\", \"line\": {\"width\": 0}, \"opacity\": 1, \"type\": \"rect\", \"x0\": \"2100-01-01 0:05:32\", \"x1\": \"2100-01-01 0:06:11\", \"xref\": \"x\", \"y0\": 0.8, \"y1\": 1.2, \"yref\": \"y\"}, {\"fillcolor\": \"rgb(214, 39, 40)\", \"line\": {\"width\": 0}, \"opacity\": 1, \"type\": \"rect\", \"x0\": \"2100-01-01 0:01:21\", \"x1\": \"2100-01-01 0:02:56\", \"xref\": \"x\", \"y0\": 0.8, \"y1\": 1.2, \"yref\": \"y\"}, {\"fillcolor\": \"rgb(31, 119, 180)\", \"line\": {\"width\": 0}, \"opacity\": 1, \"type\": \"rect\", \"x0\": \"2100-01-01 0:05:46\", \"x1\": \"2100-01-01 0:05:55\", \"xref\": \"x\", \"y0\": -0.2, \"y1\": 0.2, \"yref\": \"y\"}, {\"fillcolor\": \"rgb(255, 127, 14)\", \"line\": {\"width\": 0}, \"opacity\": 1, \"type\": \"rect\", \"x0\": \"2100-01-01 0:05:55\", \"x1\": \"2100-01-01 0:06:06\", \"xref\": \"x\", \"y0\": -0.2, \"y1\": 0.2, \"yref\": \"y\"}, {\"fillcolor\": \"rgb(44, 160, 44)\", \"line\": {\"width\": 0}, \"opacity\": 1, \"type\": \"rect\", \"x0\": \"2100-01-01 0:06:11\", \"x1\": \"2100-01-01 0:07:25\", \"xref\": \"x\", \"y0\": -0.2, \"y1\": 0.2, \"yref\": \"y\"}, {\"fillcolor\": \"rgb(214, 39, 40)\", \"line\": {\"width\": 0}, \"opacity\": 1, \"type\": \"rect\", \"x0\": \"2100-01-01 0:04:07\", \"x1\": \"2100-01-01 0:05:46\", \"xref\": \"x\", \"y0\": -0.2, \"y1\": 0.2, \"yref\": \"y\"}], \"showlegend\": true, \"title\": {\"text\": \"Job shop Schedule\"}, \"width\": 900, \"xaxis\": {\"rangeselector\": {\"buttons\": [{\"count\": 7, \"label\": \"1w\", \"step\": \"day\", \"stepmode\": \"backward\"}, {\"count\": 1, \"label\": \"1m\", \"step\": \"month\", \"stepmode\": \"backward\"}, {\"count\": 6, \"label\": \"6m\", \"step\": \"month\", \"stepmode\": \"backward\"}, {\"count\": 1, \"label\": \"YTD\", \"step\": \"year\", \"stepmode\": \"todate\"}, {\"count\": 1, \"label\": \"1y\", \"step\": \"year\", \"stepmode\": \"backward\"}, {\"step\": \"all\"}]}, \"showgrid\": true, \"type\": \"date\", \"zeroline\": false}, \"yaxis\": {\"autorange\": false, \"range\": [-1, 5], \"showgrid\": false, \"ticktext\": [\"Machine 4\", \"Machine 3\", \"Machine 2\", \"Machine 1\"], \"tickvals\": [0, 1, 2, 3], \"zeroline\": false}},\\n                        {\"showLink\": false, \"linkText\": \"Export to plot.ly\", \"plotlyServerURL\": \"https://plot.ly\", \"responsive\": true}\\n                    )\\n                };\\n                \\n            </script>\\n        </div>'"
      ]
     },
     "execution_count": 2,
     "metadata": {},
     "output_type": "execute_result"
    }
   ],
   "source": [
    "mainScheduler.GenerateGanttChart()"
   ]
  },
  {
   "cell_type": "code",
   "execution_count": null,
   "metadata": {},
   "outputs": [],
   "source": []
  }
 ],
 "metadata": {
  "kernelspec": {
   "display_name": "Python 3",
   "language": "python",
   "name": "python3"
  },
  "language_info": {
   "codemirror_mode": {
    "name": "ipython",
    "version": 3
   },
   "file_extension": ".py",
   "mimetype": "text/x-python",
   "name": "python",
   "nbconvert_exporter": "python",
   "pygments_lexer": "ipython3",
   "version": "3.6.8"
  }
 },
 "nbformat": 4,
 "nbformat_minor": 2
}
